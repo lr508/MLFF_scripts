{
 "cells": [
  {
   "cell_type": "code",
   "execution_count": null,
   "metadata": {},
   "outputs": [],
   "source": [
    "\"\"\"\n",
    "A script to generate an RDF between each species in a chosen system in order to compare DFT to ML, from XDATCARs\n",
    "\"\"\"\n",
    "from pymatgen.io.vasp import Xdatcar\n",
    "import vasppy\n",
    "from vasppy.rdf import RadialDistributionFunction\n",
    "import matplotlib.pyplot as plt\n",
    "import numpy as np"
   ]
  },
  {
   "cell_type": "code",
   "execution_count": null,
   "metadata": {},
   "outputs": [],
   "source": [
    "# Path to DFT XDATCAR\n",
    "AIxd = Xdatcar('AI_1000K/runs/run5/XDATCAR')\n",
    "\n",
    "# Path to ML XDATCAR\n",
    "MLxd= Xdatcar('ML_1000K/XDATCAR')\n",
    "\n",
    "# List of atom species in structure\n",
    "atoms_sp = ['Na','Er','Zr','Cl']"
   ]
  },
  {
   "cell_type": "code",
   "execution_count": null,
   "metadata": {},
   "outputs": [],
   "source": [
    "for n, species_1 in enumerate(atoms_sp):\n",
    "    rdf_no = len(atoms_sp[n:])\n",
    "    fig, axs = plt.subplots(1, rdf_no, squeeze=False)\n",
    "    fig.set_figheight(4.8)\n",
    "    fig.set_figwidth(6.4*rdf_no)\n",
    "    if rdf_no > 1:\n",
    "        fig.suptitle(f'{species_1} RDFs 1000 K',fontsize=18)\n",
    "    else:\n",
    "        fig.suptitle(f'{species_1}-{species_1} RDF 1000 K',fontsize=18)\n",
    "        \n",
    "    for o, species_2 in enumerate(atoms_sp[n:]):\n",
    "        rdf_AI = RadialDistributionFunction.from_species_strings(structures=AIxd.structures,\n",
    "                                                                        species_i=species_1,species_j=species_2)\n",
    "        rdf_ML = RadialDistributionFunction.from_species_strings(structures=MLxd.structures,\n",
    "                                                                        species_i=species_1,species_j=species_2)\n",
    "\n",
    "        axs[0][o].plot(rdf_AI.r, rdf_AI.smeared_rdf(), label=f'AI')\n",
    "        axs[0][o].plot(rdf_ML.r, rdf_ML.smeared_rdf(), label=f' ML')\n",
    "        if rdf_no > 1:\n",
    "            axs[0][o].set_title(f'{species_1}-{species_2} RDF')\n",
    "        axs[0][o].legend()\n",
    "\n",
    "    for ax in axs.flat:\n",
    "        ax.set(xlabel='r', ylabel='g(r)')"
   ]
  },
  {
   "cell_type": "code",
   "execution_count": null,
   "metadata": {},
   "outputs": [],
   "source": []
  }
 ],
 "metadata": {
  "interpreter": {
   "hash": "7101ab7c21f88d796f5c3865c7690d2c4148f909d43ef717148f9005e7ca6d4b"
  },
  "kernelspec": {
   "display_name": "Python 3.8.12 64-bit ('3.8.12')",
   "language": "python",
   "name": "python3"
  },
  "language_info": {
   "codemirror_mode": {
    "name": "ipython",
    "version": 3
   },
   "file_extension": ".py",
   "mimetype": "text/x-python",
   "name": "python",
   "nbconvert_exporter": "python",
   "pygments_lexer": "ipython3",
   "version": "3.8.12"
  },
  "orig_nbformat": 4
 },
 "nbformat": 4,
 "nbformat_minor": 2
}
